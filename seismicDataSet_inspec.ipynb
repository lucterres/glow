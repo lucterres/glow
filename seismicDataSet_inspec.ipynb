{
 "cells": [
  {
   "cell_type": "code",
   "execution_count": 6,
   "metadata": {},
   "outputs": [],
   "source": [
    "from torch.utils.data import Dataset, DataLoader\n",
    "import numpy as np\n",
    "import pandas as pd\n"
   ]
  },
  {
   "cell_type": "code",
   "execution_count": null,
   "metadata": {},
   "outputs": [],
   "source": [
    "\n",
    "import dataSeismic as ds"
   ]
  },
  {
   "cell_type": "code",
   "execution_count": 4,
   "metadata": {},
   "outputs": [
    {
     "data": {
      "text/plain": [
       "'D:\\\\_phd\\\\code\\\\NormalizingFlow\\\\glow\\\\util\\\\testNOTNULL.csv'"
      ]
     },
     "execution_count": 4,
     "metadata": {},
     "output_type": "execute_result"
    }
   ],
   "source": [
    "import dir_local as dl\n",
    "dl.TEST_NOT_NULLCSV"
   ]
  },
  {
   "cell_type": "code",
   "execution_count": 7,
   "metadata": {},
   "outputs": [],
   "source": [
    "class SeismicImageDataset(Dataset):\n",
    "    def __init__(self, annotations_file, img_dir, transform=None, label_transform=None):\n",
    "        self.img_labels = pd.read_csv(annotations_file)\n",
    "        self.img_dir = img_dir\n",
    "        self.transform = transform\n",
    "        self.target_transform = label_transform\n",
    "\n",
    "    def __len__(self):\n",
    "        return len(self.img_labels)\n",
    "\n",
    "    def __getitem__(self, idx):\n",
    "        filename = self.img_labels.iloc[idx, 0] + '.png'\n",
    "        img_path = os.path.join(self.img_dir, filename)\n",
    "        image = Image.open(img_path)\n",
    "        label = 1            #self.img_labels.iloc[idx, 1]\n",
    "        if self.transform:\n",
    "            image = self.transform(image)\n",
    "        return image, label\n",
    "    \n",
    "\n",
    "# Custom Dataset Partition\n",
    "batch_size = 128\n",
    "\n",
    "\n",
    "full_dataset = SeismicImageDataset(dl.TEST_NOT_NULLCSV,dl.TRAIN_IMAGE_DIR)\n",
    "dataset_size = len(full_dataset)"
   ]
  },
  {
   "cell_type": "code",
   "execution_count": 8,
   "metadata": {},
   "outputs": [
    {
     "data": {
      "text/plain": [
       "17570"
      ]
     },
     "execution_count": 8,
     "metadata": {},
     "output_type": "execute_result"
    }
   ],
   "source": [
    "dataset_size"
   ]
  },
  {
   "cell_type": "code",
   "execution_count": null,
   "metadata": {},
   "outputs": [],
   "source": [
    "import matplotlib.pyplot as plt\n",
    "import numpy as np\n",
    "from torchvision import utils"
   ]
  },
  {
   "cell_type": "code",
   "execution_count": null,
   "metadata": {},
   "outputs": [],
   "source": [
    "ds1 = ds.train_dataSeismic\n",
    "dataloaderCustomDS = ds.train_loaderSeismic"
   ]
  },
  {
   "cell_type": "code",
   "execution_count": null,
   "metadata": {},
   "outputs": [],
   "source": [
    "tensorImg = ds1[8][0]\n",
    "numpyImg = tensorImg.numpy()[0]\n",
    "#Pooling = skimage.measure.block_reduce(numpyImg, (2,2), np.max) \n",
    "plt.figure()\n",
    "plt.subplot(1, 2, 1); plt.imshow(numpyImg,  cmap='gray');  plt.axis('off')\n",
    "#plt.subplot(1, 2, 2); plt.imshow(mPooling,cmap = 'gray' ); plt.axis('off')\n",
    "plt.show()"
   ]
  },
  {
   "cell_type": "code",
   "execution_count": null,
   "metadata": {},
   "outputs": [],
   "source": [
    "it=iter(dataloaderCustomDS)\n",
    "real_batch = next(iter(it))\n",
    "plt.figure(figsize=(10,10))\n",
    "print(real_batch[0].size())\n",
    "plt.imshow(np.transpose(utils.make_grid(real_batch[0][:64], padding=2, normalize=True).cpu(),(1,2,0)),cmap='gray')\n",
    "plt.axis('off')\n",
    "plt.title('Samples from the Masks using custom dataset');\n",
    "plt.show()"
   ]
  },
  {
   "cell_type": "code",
   "execution_count": null,
   "metadata": {},
   "outputs": [],
   "source": [
    "it=iter(dataloaderCustomDS)\n",
    "real_batch = next(iter(it))\n",
    "plt.figure(figsize=(10,10))\n",
    "print(real_batch[0].size())\n",
    "plt.imshow(np.transpose(utils.make_grid(real_batch[0][:64], padding=2, normalize=True).cpu(),(1,2,0)),cmap='gray')\n",
    "plt.axis('off')\n",
    "plt.title('Samples from the Masks using custom dataset');\n",
    "plt.show()"
   ]
  },
  {
   "cell_type": "code",
   "execution_count": null,
   "metadata": {},
   "outputs": [],
   "source": []
  }
 ],
 "metadata": {
  "kernelspec": {
   "display_name": "salt",
   "language": "python",
   "name": "python3"
  },
  "language_info": {
   "codemirror_mode": {
    "name": "ipython",
    "version": 3
   },
   "file_extension": ".py",
   "mimetype": "text/x-python",
   "name": "python",
   "nbconvert_exporter": "python",
   "pygments_lexer": "ipython3",
   "version": "3.8.8"
  },
  "orig_nbformat": 4,
  "vscode": {
   "interpreter": {
    "hash": "2cda7bd130da44342c4ad239c127d60d2f137327d3eb6aa2f359780eca3cb958"
   }
  }
 },
 "nbformat": 4,
 "nbformat_minor": 2
}
