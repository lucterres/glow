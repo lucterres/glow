{
 "cells": [
  {
   "cell_type": "code",
   "execution_count": null,
   "metadata": {},
   "outputs": [],
   "source": [
    "\n",
    "import pandas as pd"
   ]
  },
  {
   "cell_type": "code",
   "execution_count": null,
   "metadata": {},
   "outputs": [],
   "source": [
    "\n",
    "mypath= \"E:/Luciano/_0PH/Datasets/tgs-salt/test/images\"\n",
    "\n",
    "\n",
    "substring = \".png\"\n",
    "output_string = myStr.replace(substring, \"\")\n"
   ]
  },
  {
   "cell_type": "code",
   "execution_count": null,
   "metadata": {},
   "outputs": [],
   "source": [
    "df_test = pd.read_csv(\"E:/Luciano/_0PH/Datasets/tgs-salt/testList.csv\")"
   ]
  },
  {
   "cell_type": "code",
   "execution_count": null,
   "metadata": {},
   "outputs": [],
   "source": [
    "myStr = \"I am PFB. I provide free python tutorials for you to learn python.\"\n",
    "substring = \"python\"\n",
    "output_string = myStr.replace(substring, \"\")\n",
    "output_string"
   ]
  },
  {
   "cell_type": "code",
   "execution_count": null,
   "metadata": {},
   "outputs": [],
   "source": [
    "df_test['id']=df_test['id'].replace(substring, \".png\")"
   ]
  },
  {
   "cell_type": "code",
   "execution_count": null,
   "metadata": {},
   "outputs": [],
   "source": [
    "df_test"
   ]
  },
  {
   "cell_type": "code",
   "execution_count": null,
   "metadata": {},
   "outputs": [],
   "source": [
    "for index, row in df_test.iterrows():\n",
    "    string_original = row['id']\n",
    "    sub_string = \".png\"\n",
    "    indice = string_original.find(sub_string)\n",
    "    string_nova = string_original[:indice] + string_original[indice+len(sub_string):]\n",
    "    row['id'] = string_nova"
   ]
  },
  {
   "cell_type": "code",
   "execution_count": 37,
   "metadata": {},
   "outputs": [],
   "source": [
    "df_test.to_csv(\"./test.csv\",index=False)"
   ]
  },
  {
   "cell_type": "code",
   "execution_count": null,
   "metadata": {},
   "outputs": [],
   "source": [
    "df_test"
   ]
  }
 ],
 "metadata": {
  "kernelspec": {
   "display_name": "Python 3",
   "language": "python",
   "name": "python3"
  },
  "language_info": {
   "codemirror_mode": {
    "name": "ipython",
    "version": 3
   },
   "file_extension": ".py",
   "mimetype": "text/x-python",
   "name": "python",
   "nbconvert_exporter": "python",
   "pygments_lexer": "ipython3",
   "version": "3.8.8"
  },
  "vscode": {
   "interpreter": {
    "hash": "14f7fd295da18d51ca88726a263299245f27ba416687bfd4eada1f307496d378"
   }
  }
 },
 "nbformat": 4,
 "nbformat_minor": 4
}
